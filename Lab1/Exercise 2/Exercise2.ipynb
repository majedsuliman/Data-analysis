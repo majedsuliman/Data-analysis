{
 "cells": [
  {
   "cell_type": "code",
   "execution_count": 13,
   "id": "1a98b2f2",
   "metadata": {},
   "outputs": [],
   "source": [
    "import matplotlib.pyplot as plt"
   ]
  },
  {
   "cell_type": "code",
   "execution_count": 5,
   "id": "b27edb4a",
   "metadata": {},
   "outputs": [
    {
     "name": "stderr",
     "output_type": "stream",
     "text": [
      "INFO:cmdstanpy:found newer exe file, not recompiling\n"
     ]
    },
    {
     "name": "stdout",
     "output_type": "stream",
     "text": [
      "CmdStanModel: name=bern_1\n",
      "\t stan_file=C:\\Users\\TOSHIBA\\Desktop\\CPS\\Semester 1\\Data analysis\\Lab1\\Exercise 2\\bern_1.stan\n",
      "\t exe_file=C:\\Users\\TOSHIBA\\Desktop\\CPS\\Semester 1\\Data analysis\\Lab1\\Exercise 2\\bern_1.exe\n",
      "\t compiler_options=stanc_options={}, cpp_options={}\n"
     ]
    }
   ],
   "source": [
    "# import packages\n",
    "import os\n",
    "from cmdstanpy import cmdstan_path, CmdStanModel\n",
    "\n",
    "# specify Stan program file\n",
    "bernoulli_stan = os.path.join(r\"C:\\Users\\TOSHIBA\\Desktop\\CPS\\Semester 1\\Data analysis\\Lab1\\Exercise 2\\bern_1.stan\")\n",
    "\n",
    "# instantiate the model; compiles the Stan program as needed.\n",
    "bernoulli_model = CmdStanModel(stan_file=bernoulli_stan)\n",
    "\n",
    "# inspect model object\n",
    "print(bernoulli_model)"
   ]
  },
  {
   "cell_type": "code",
   "execution_count": 6,
   "id": "985884ad",
   "metadata": {},
   "outputs": [
    {
     "name": "stderr",
     "output_type": "stream",
     "text": [
      "INFO:cmdstanpy:CmdStan start processing\n"
     ]
    },
    {
     "data": {
      "application/vnd.jupyter.widget-view+json": {
       "model_id": "22e3f7f8a04341da8396808753a6eba4",
       "version_major": 2,
       "version_minor": 0
      },
      "text/plain": [
       "chain 1 |          | 00:00 Status"
      ]
     },
     "metadata": {},
     "output_type": "display_data"
    },
    {
     "data": {
      "application/vnd.jupyter.widget-view+json": {
       "model_id": "37c9eea51328424294174dbbf995c5f0",
       "version_major": 2,
       "version_minor": 0
      },
      "text/plain": [
       "chain 2 |          | 00:00 Status"
      ]
     },
     "metadata": {},
     "output_type": "display_data"
    },
    {
     "data": {
      "application/vnd.jupyter.widget-view+json": {
       "model_id": "1da3b1c037594108b3b44aee445eb220",
       "version_major": 2,
       "version_minor": 0
      },
      "text/plain": [
       "chain 3 |          | 00:00 Status"
      ]
     },
     "metadata": {},
     "output_type": "display_data"
    },
    {
     "data": {
      "application/vnd.jupyter.widget-view+json": {
       "model_id": "ace742a9a873435da7031353101b85ce",
       "version_major": 2,
       "version_minor": 0
      },
      "text/plain": [
       "chain 4 |          | 00:00 Status"
      ]
     },
     "metadata": {},
     "output_type": "display_data"
    },
    {
     "name": "stdout",
     "output_type": "stream",
     "text": [
      "                                                                                                                                                                                                                                                                                                                                "
     ]
    },
    {
     "name": "stderr",
     "output_type": "stream",
     "text": [
      "INFO:cmdstanpy:CmdStan done processing.\n"
     ]
    },
    {
     "name": "stdout",
     "output_type": "stream",
     "text": [
      "\n"
     ]
    }
   ],
   "source": [
    "bernoulli_data = os.path.join(r\"C:\\Users\\TOSHIBA\\Desktop\\CPS\\Semester 1\\Data analysis\\Lab1\\Exercise 2\\bernoulli.data.json\")\n",
    "\n",
    "# fit the model\n",
    "bern_fit = bernoulli_model.sample(data=bernoulli_data, output_dir='.')"
   ]
  },
  {
   "cell_type": "code",
   "execution_count": 15,
   "id": "6fc80cd7",
   "metadata": {},
   "outputs": [],
   "source": [
    "theta = bern_fit.stan_variable('theta')\n",
    "summary = bern_fit.summary()"
   ]
  },
  {
   "cell_type": "code",
   "execution_count": 16,
   "id": "fafd1f99",
   "metadata": {},
   "outputs": [
    {
     "data": {
      "text/plain": [
       "(array([  2.,   6.,  18.,  33.,  53.,  90., 190., 242., 367., 418., 429.,\n",
       "        497., 450., 420., 323., 229., 136.,  59.,  32.,   6.]),\n",
       " array([0.11871   , 0.15884615, 0.1989823 , 0.23911845, 0.2792546 ,\n",
       "        0.31939075, 0.3595269 , 0.39966305, 0.4397992 , 0.47993535,\n",
       "        0.5200715 , 0.56020765, 0.6003438 , 0.64047995, 0.6806161 ,\n",
       "        0.72075225, 0.7608884 , 0.80102455, 0.8411607 , 0.88129685,\n",
       "        0.921433  ]),\n",
       " <BarContainer object of 20 artists>)"
      ]
     },
     "execution_count": 16,
     "metadata": {},
     "output_type": "execute_result"
    },
    {
     "data": {
      "image/png": "[encoded data removed]",
      "text/plain": [
       "<Figure size 432x288 with 1 Axes>"
      ]
     },
     "metadata": {
      "needs_background": "light"
     },
     "output_type": "display_data"
    }
   ],
   "source": [
    "plt.hist(theta, bins=20)"
   ]
  },
  {
   "cell_type": "code",
   "execution_count": 17,
   "id": "0e7f2ff5",
   "metadata": {},
   "outputs": [
    {
     "data": {
      "image/png": "[encoded data removed]",
      "text/plain": [
       "<Figure size 432x288 with 1 Axes>"
      ]
     },
     "metadata": {
      "needs_background": "light"
     },
     "output_type": "display_data"
    }
   ],
   "source": [
    "plt.axvline(summary['5%']['theta'], color='r')\n",
    "plt.axvline(summary['50%']['theta'], color='g')\n",
    "plt.axvline(summary['95%']['theta'], color='b')\n",
    "plt.axvline(theta.mean(), color='y')\n",
    "plt.show()"
   ]
  }
 ],
 "metadata": {
  "kernelspec": {
   "display_name": "Python 3",
   "language": "python",
   "name": "python3"
  },
  "language_info": {
   "codemirror_mode": {
    "name": "ipython",
    "version": 3
   },
   "file_extension": ".py",
   "mimetype": "text/x-python",
   "name": "python",
   "nbconvert_exporter": "python",
   "pygments_lexer": "ipython3",
   "version": "3.8.8"
  }
 },
 "nbformat": 4,
 "nbformat_minor": 5
}
