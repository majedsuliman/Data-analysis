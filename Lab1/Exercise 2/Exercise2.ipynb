{
 "cells": [
  {
   "cell_type": "code",
   "execution_count": 2,
   "id": "1a98b2f2",
   "metadata": {},
   "outputs": [],
   "source": [
    "import matplotlib.pyplot as plt"
   ]
  },
  {
   "cell_type": "code",
   "execution_count": 11,
   "id": "b27edb4a",
   "metadata": {},
   "outputs": [
    {
     "name": "stderr",
     "output_type": "stream",
     "text": [
      "INFO:cmdstanpy:found newer exe file, not recompiling\n"
     ]
    },
    {
     "name": "stdout",
     "output_type": "stream",
     "text": [
      "CmdStanModel: name=bern_1\n",
      "\t stan_file=C:\\Users\\TOSHIBA\\Desktop\\CPS\\Semester 1\\Data analysis\\Lab1\\Exercise 2\\bern_1.stan\n",
      "\t exe_file=C:\\Users\\TOSHIBA\\Desktop\\CPS\\Semester 1\\Data analysis\\Lab1\\Exercise 2\\bern_1.exe\n",
      "\t compiler_options=stanc_options={}, cpp_options={}\n"
     ]
    }
   ],
   "source": [
    "# import packages\n",
    "import os\n",
    "from cmdstanpy import cmdstan_path, CmdStanModel\n",
    "\n",
    "# specify Stan program file\n",
    "bernoulli_stan = os.path.join(r\"C:\\Users\\TOSHIBA\\Desktop\\CPS\\Semester 1\\Data analysis\\Lab1\\Exercise 2\\bern_1.stan\")\n",
    "\n",
    "# instantiate the model; compiles the Stan program as needed.\n",
    "bernoulli_model = CmdStanModel(stan_file=bernoulli_stan)\n",
    "\n",
    "# inspect model object\n",
    "print(bernoulli_model)"
   ]
  },
  {
   "cell_type": "code",
   "execution_count": 12,
   "id": "985884ad",
   "metadata": {},
   "outputs": [
    {
     "name": "stderr",
     "output_type": "stream",
     "text": [
      "INFO:cmdstanpy:CmdStan start processing\n",
      "chain 1 |\u001b[33m          \u001b[0m| 00:00 Status\n",
      "\u001b[A\n",
      "\n",
      "chain 1 |\u001b[34m█████▉    \u001b[0m| 00:00 Iteration: 1001 / 2000 [ 50%]  (Sampling)\n",
      "\u001b[A\n",
      "\n",
      "\u001b[A\u001b[A\n",
      "\n",
      "chain 1 |\u001b[34m██████████\u001b[0m| 00:00 Sampling completed                       \n",
      "chain 2 |\u001b[34m██████████\u001b[0m| 00:00 Sampling completed\n",
      "\n",
      "chain 3 |\u001b[34m██████████\u001b[0m| 00:00 Sampling completed\n",
      "chain 4 |\u001b[34m██████████\u001b[0m| 00:00 Sampling completed                       "
     ]
    },
    {
     "name": "stdout",
     "output_type": "stream",
     "text": [
      "                                                                                                                                                                                                                                                                                                                                "
     ]
    },
    {
     "name": "stderr",
     "output_type": "stream",
     "text": [
      "\n",
      "INFO:cmdstanpy:CmdStan done processing.\n"
     ]
    },
    {
     "name": "stdout",
     "output_type": "stream",
     "text": [
      "\n"
     ]
    }
   ],
   "source": [
    "bernoulli_data = os.path.join(r\"C:\\Users\\TOSHIBA\\Desktop\\CPS\\Semester 1\\Data analysis\\Lab1\\Exercise 2\\bernoulli.data.json\")\n",
    "\n",
    "# fit the model\n",
    "bern_fit = bernoulli_model.sample(data=bernoulli_data, output_dir='.')"
   ]
  },
  {
   "cell_type": "code",
   "execution_count": 13,
   "id": "6fc80cd7",
   "metadata": {},
   "outputs": [],
   "source": [
    "theta = bern_fit.stan_variable('theta')\n"
   ]
  },
  {
   "cell_type": "code",
   "execution_count": 14,
   "id": "fafd1f99",
   "metadata": {},
   "outputs": [
    {
     "data": {
      "text/plain": [
       "(array([  4.,   6.,  23.,  52.,  92., 140., 198., 268., 350., 418., 450.,\n",
       "        452., 410., 430., 294., 203., 122.,  57.,  21.,  10.]),\n",
       " array([0.138307  , 0.17838745, 0.2184679 , 0.25854835, 0.2986288 ,\n",
       "        0.33870925, 0.3787897 , 0.41887015, 0.4589506 , 0.49903105,\n",
       "        0.5391115 , 0.57919195, 0.6192724 , 0.65935285, 0.6994333 ,\n",
       "        0.73951375, 0.7795942 , 0.81967465, 0.8597551 , 0.89983555,\n",
       "        0.939916  ]),\n",
       " <BarContainer object of 20 artists>)"
      ]
     },
     "execution_count": 14,
     "metadata": {},
     "output_type": "execute_result"
    },
    {
     "data": {
      "image/png": "[encoded data removed]",
      "text/plain": [
       "<Figure size 432x288 with 1 Axes>"
      ]
     },
     "metadata": {
      "needs_background": "light"
     },
     "output_type": "display_data"
    }
   ],
   "source": [
    "plt.hist(theta, bins=20)"
   ]
  },
  {
   "cell_type": "code",
   "execution_count": 15,
   "id": "0e7f2ff5",
   "metadata": {},
   "outputs": [
    {
     "data": {
      "image/png": "[encoded data removed]",
      "text/plain": [
       "<Figure size 432x288 with 1 Axes>"
      ]
     },
     "metadata": {
      "needs_background": "light"
     },
     "output_type": "display_data"
    }
   ],
   "source": [
    "summary = bern_fit.summary()\n",
    "summary = summary.iloc[1]\n",
    "plt.hist(theta, bins=20)\n",
    "plt.axvline(summary['Mean'], color='r')\n",
    "plt.axvline(summary['StdDev'], color='y')\n",
    "plt.axvline(summary['5%'], color='g')\n",
    "plt.axvline(summary['95%'], color='b')\n",
    "plt.show()"
   ]
  }
 ],
 "metadata": {
  "interpreter": {
   "hash": "72ac9bc46bde6907b0b214775265cce7138316dca095cf7184d5960928905317"
  },
  "kernelspec": {
   "display_name": "Python 3.8.8 ('base')",
   "language": "python",
   "name": "python3"
  },
  "language_info": {
   "codemirror_mode": {
    "name": "ipython",
    "version": 3
   },
   "file_extension": ".py",
   "mimetype": "text/x-python",
   "name": "python",
   "nbconvert_exporter": "python",
   "pygments_lexer": "ipython3",
   "version": "3.8.8"
  }
 },
 "nbformat": 4,
 "nbformat_minor": 5
}
